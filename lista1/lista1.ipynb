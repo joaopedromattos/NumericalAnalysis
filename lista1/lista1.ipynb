{
 "cells": [
  {
   "cell_type": "markdown",
   "metadata": {},
   "source": [
    "# Conceitos iniciais para a lista 1"
   ]
  },
  {
   "cell_type": "markdown",
   "metadata": {},
   "source": [
    "### Teorema do valor intermediário"
   ]
  },
  {
   "cell_type": "markdown",
   "metadata": {},
   "source": [
    "Se $f(x) é uma função contínua e $f(a)f(b)<0$ , então existe $z \\in [a,b]$ tal que $f(z)=0$, isto é, há uma raiz."
   ]
  },
  {
   "cell_type": "markdown",
   "metadata": {},
   "source": [
    "__Importante__: Caso o teorema não seja válido para determinado exercício, não significa que a função não possua uma raiz, uma vez que ele é condição **suficiente** e não **necessária** para a utilização de métodos numéricos de resolução de equações não lineares."
   ]
  },
  {
   "cell_type": "markdown",
   "metadata": {},
   "source": [
    "Depois de obtido o intervalo $[a, b]$ que contém z, podemos escolher um método numérico para calcular uma aproximação de $x_1, x_2, x_3,..., x_k$ que convirjam para $z$."
   ]
  },
  {
   "cell_type": "code",
   "execution_count": 13,
   "metadata": {},
   "outputs": [],
   "source": [
    "# Nesta celula, iremos configurar as variaveis utilizadas durante todo o notebook...\n",
    "import numpy as np\n",
    "\n",
    "# Para usar qualquer metodo, basta inserir a funcao desejada na variavel 'f' logo abaixo.\n",
    "# Como exemplo, temos a funcao x*(np.e**x) - 4, do exercicio 1.1 da lista 1 :)\n",
    "f = lambda x: -np.sqrt(((np.e**x)/3))"
   ]
  },
  {
   "cell_type": "markdown",
   "metadata": {},
   "source": [
    "## Método da bissecção"
   ]
  },
  {
   "cell_type": "markdown",
   "metadata": {},
   "source": [
    "> Obs.: Não funciona para casos em que existe mais de uma raiz da função dentro do intervalo $[a,b]$"
   ]
  },
  {
   "cell_type": "code",
   "execution_count": 6,
   "metadata": {},
   "outputs": [],
   "source": [
    "\"\"\"\n",
    "    Funcao responsavel pelo calculo do metodo da bisseccao.\n",
    "    Parametros: [a, b] -> Intervalo de atuacao do metodo\n",
    "                funcao -> f(x)\n",
    "                erro -> Nivel de precisao desejado.\n",
    "\"\"\"\n",
    "def metodoBisseccao(a, b, funcao, erro):\n",
    "\n",
    "    print(\">>> Intervalo atual: \", \"a: \", a, \" b: \", b)\n",
    "    x = (a + b) / 2  # Calculamos o ponto medio.\n",
    "    print(\">>> Ponto medio:\", x)\n",
    "\n",
    "    if (abs(a - x) <= erro):\n",
    "        return x\n",
    "\n",
    "    verificacao = funcao(a)*funcao(x)\n",
    "    print(\">>> f(a)*f(x): \", verificacao)\n",
    "\n",
    "    # Caso f(a)*f(x) > 0, entao... [x, b]\n",
    "    if (verificacao > 0):\n",
    "        print('>>> Proxima iteracao: [x, b]')\n",
    "        return metodoBisseccao(x, b, funcao, erro)\n",
    "    else:\n",
    "        print('>>> Proxima iteracao: [a, x]')\n",
    "        return metodoBisseccao(a, x, funcao, erro)\n"
   ]
  },
  {
   "cell_type": "code",
   "execution_count": 8,
   "metadata": {},
   "outputs": [
    {
     "name": "stdout",
     "output_type": "stream",
     "text": [
      ">>> Intervalo atual:  a:  0  b:  2\n",
      ">>> Ponto medio: 1.0\n",
      ">>> f(a)*f(x):  5.12687268616382\n",
      ">>> Proxima iteracao: [x, b]\n",
      ">>> Intervalo atual:  a:  1.0  b:  2\n",
      ">>> Ponto medio: 1.5\n",
      ">>> f(a)*f(x):  -3.4895207948093603\n",
      ">>> Proxima iteracao: [a, x]\n",
      ">>> Intervalo atual:  a:  1.0  b:  1.5\n",
      ">>> Ponto medio: 1.25\n",
      ">>> f(a)*f(x):  -0.46517230569722967\n",
      ">>> Proxima iteracao: [a, x]\n",
      ">>> Intervalo atual:  a:  1.0  b:  1.25\n",
      ">>> Ponto medio: 1.125\n",
      ">>> f(a)*f(x):  0.6854065401758516\n",
      ">>> Proxima iteracao: [x, b]\n",
      ">>> Intervalo atual:  a:  1.125  b:  1.25\n",
      ">>> Ponto medio: 1.1875\n",
      ">>> f(a)*f(x):  0.056864567762418626\n",
      ">>> Proxima iteracao: [x, b]\n",
      ">>> Intervalo atual:  a:  1.1875  b:  1.25\n",
      ">>> Ponto medio: 1.21875\n",
      ">>> f(a)*f(x):  -0.013077172044994142\n",
      ">>> Proxima iteracao: [a, x]\n",
      ">>> Intervalo atual:  a:  1.1875  b:  1.21875\n",
      ">>> Ponto medio: 1.203125\n",
      ">>> f(a)*f(x):  -0.0007462821456601511\n",
      ">>> Proxima iteracao: [a, x]\n",
      ">>> Intervalo atual:  a:  1.1875  b:  1.203125\n",
      ">>> Ponto medio: 1.1953125\n"
     ]
    },
    {
     "data": {
      "text/plain": [
       "1.1953125"
      ]
     },
     "execution_count": 8,
     "metadata": {},
     "output_type": "execute_result"
    }
   ],
   "source": [
    "metodoBisseccao(0, 2, f, 0.01)"
   ]
  },
  {
   "cell_type": "markdown",
   "metadata": {},
   "source": [
    "## Método do Ponto Fixo"
   ]
  },
  {
   "cell_type": "markdown",
   "metadata": {},
   "source": [
    "Temos em mãos uma equaçao não-linear $f(x)$, para a qual tentaremos aproximar raízes. Nesse sentido, temos que, partindo de $f(x)=0$, conseguimos desenvolvê-la de forma a encontrarmos uma outra com o formato $x=g(x)$ <span style=\"color:blue\">(chamada de função de iteração)</span>, que será utilizada para o processo iterativo de pesquisa de soluções."
   ]
  },
  {
   "cell_type": "markdown",
   "metadata": {},
   "source": [
    "### Quando é válido utilizar o método?"
   ]
  },
  {
   "cell_type": "markdown",
   "metadata": {},
   "source": [
    "O método em questão é válido nos seguintes casos:\n",
    "- $g([a,b]) \\subset [a,b]$\n",
    "- $max|g'(x) \\leqslant L < 1$\n"
   ]
  },
  {
   "cell_type": "code",
   "execution_count": 11,
   "metadata": {},
   "outputs": [],
   "source": [
    "def metodoPontoFixo(x0, funcao, erro):\n",
    "    xnext = funcao(x0)  # x = g(x)\n",
    "    print(\">>> x = g(x): \", xnext)\n",
    "    \n",
    "    # Se ja encontramos uma solucao precisa o bastante\n",
    "    if (abs(x0 - xnext) <= erro):\n",
    "        return xnext\n",
    "    else:\n",
    "        return metodoPontoFixo(xnext, funcao, erro)  # Chamada recursiva da funcao..."
   ]
  },
  {
   "cell_type": "code",
   "execution_count": 14,
   "metadata": {},
   "outputs": [
    {
     "name": "stdout",
     "output_type": "stream",
     "text": [
      ">>> x = g(x):  -0.5773502691896257\n",
      ">>> x = g(x):  -0.4325829068124507\n",
      ">>> x = g(x):  -0.4650559315428768\n",
      ">>> x = g(x):  -0.45756601476601655\n"
     ]
    },
    {
     "data": {
      "text/plain": [
       "-0.45756601476601655"
      ]
     },
     "execution_count": 14,
     "metadata": {},
     "output_type": "execute_result"
    }
   ],
   "source": [
    "metodoPontoFixo(0, f, 0.01)"
   ]
  }
 ],
 "metadata": {
  "kernelspec": {
   "display_name": "Python 3",
   "language": "python",
   "name": "python3"
  },
  "language_info": {
   "codemirror_mode": {
    "name": "ipython",
    "version": 3
   },
   "file_extension": ".py",
   "mimetype": "text/x-python",
   "name": "python",
   "nbconvert_exporter": "python",
   "pygments_lexer": "ipython3",
   "version": "3.7.4"
  }
 },
 "nbformat": 4,
 "nbformat_minor": 2
}
